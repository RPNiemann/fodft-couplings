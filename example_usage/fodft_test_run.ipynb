{
 "cells": [
  {
   "cell_type": "markdown",
   "metadata": {},
   "source": [
    "## FODFT Test Run - Notebook"
   ]
  },
  {
   "cell_type": "code",
   "execution_count": 10,
   "metadata": {},
   "outputs": [
    {
     "ename": "ModuleNotFoundError",
     "evalue": "No module named 'couplings'",
     "output_type": "error",
     "traceback": [
      "\u001b[31m---------------------------------------------------------------------------\u001b[39m",
      "\u001b[31mModuleNotFoundError\u001b[39m                       Traceback (most recent call last)",
      "\u001b[36mCell\u001b[39m\u001b[36m \u001b[39m\u001b[32mIn[10]\u001b[39m\u001b[32m, line 2\u001b[39m\n\u001b[32m      1\u001b[39m \u001b[38;5;66;03m# Imports\u001b[39;00m\n\u001b[32m----> \u001b[39m\u001b[32m2\u001b[39m \u001b[38;5;28;01mfrom\u001b[39;00m\u001b[38;5;250m \u001b[39m\u001b[34;01mcouplings\u001b[39;00m\u001b[34;01m.\u001b[39;00m\u001b[34;01mdimerobject\u001b[39;00m\u001b[38;5;250m \u001b[39m\u001b[38;5;28;01mimport\u001b[39;00m DimerObject\n\u001b[32m      3\u001b[39m \u001b[38;5;66;03m# from couplings.molfodft import MolFODFT\u001b[39;00m\n",
      "\u001b[31mModuleNotFoundError\u001b[39m: No module named 'couplings'"
     ]
    }
   ],
   "source": [
    "# Imports\n",
    "from couplings.dimerobject import DimerObject\n",
    "# from couplings.molfodft import MolFODFT"
   ]
  },
  {
   "cell_type": "code",
   "execution_count": 6,
   "metadata": {},
   "outputs": [],
   "source": [
    "# Create dimer object from .xyz file\n",
    "benzene_struct = \"benzene_mol.xyz\"\n",
    "benzene_dimer = DimerObject(benzene_struct, t=[0,0,5.0])\n"
   ]
  },
  {
   "cell_type": "code",
   "execution_count": null,
   "metadata": {},
   "outputs": [],
   "source": [
    "# Create FODFT object\n",
    "benz_fodft = MolFODFT(benzene_dimer)\n"
   ]
  },
  {
   "cell_type": "code",
   "execution_count": 10,
   "metadata": {},
   "outputs": [
    {
     "name": "stdout",
     "output_type": "stream",
     "text": [
      "Calculated HS matrices for benzene_mol at distance 5.0 with xc: PBE and basis: dzp\n"
     ]
    }
   ],
   "source": [
    "# First calculate the Hamiltonian and Overlap matrix, for a given functional and basis\n",
    "benz_fodft.calculate_HS(\"PBE\", \"dzp\")"
   ]
  },
  {
   "cell_type": "code",
   "execution_count": 11,
   "metadata": {},
   "outputs": [
    {
     "name": "stdout",
     "output_type": "stream",
     "text": [
      "Calculated HS matrices for benzene_mol at distance 5.0 with xc: LDA and basis: dzp\n"
     ]
    }
   ],
   "source": [
    "# Calculate the Hamiltonian and Overlap matrix, for a given functional and basis\n",
    "benz_fodft.calculate_HS(\"LDA\", \"dzp\")"
   ]
  },
  {
   "cell_type": "code",
   "execution_count": 12,
   "metadata": {},
   "outputs": [
    {
     "name": "stdout",
     "output_type": "stream",
     "text": [
      "Calculating and building the block-diagonal Hamiltonian\n",
      "Calculating and building the block-diagonal Hamiltonian\n"
     ]
    }
   ],
   "source": [
    "# Now calculate the H_dimer_prime and overlaps for the two fragments \n",
    "benz_fodft.calculate_couplings_matrix(\"PBE\",\"dzp\")\n",
    "benz_fodft.calculate_couplings_matrix(\"LDA\",\"dzp\")"
   ]
  },
  {
   "cell_type": "code",
   "execution_count": 13,
   "metadata": {},
   "outputs": [
    {
     "name": "stdout",
     "output_type": "stream",
     "text": [
      "Getting couplings directly from stored diabats\n",
      "Hab_fo: -0.03417545158462063 eV \n",
      "Site energy acceptor: -0.9124506058217634 eV \n",
      "Site energy donor: -0.9124506058218215 eV\n",
      "\n",
      "Getting couplings directly from stored diabats\n",
      "Hab_fo: -0.034571701742674404 eV \n",
      "Site energy acceptor: -1.1265039976320719 eV \n",
      "Site energy donor: -1.126503997632144 eV\n"
     ]
    },
    {
     "data": {
      "text/plain": [
       "(-0.034571701742674404, -1.1265039976320719, -1.126503997632144)"
      ]
     },
     "execution_count": 13,
     "metadata": {},
     "output_type": "execute_result"
    }
   ],
   "source": [
    "benz_fodft.get_couplings(\"PBE\", \"dzp\", 16, 16)\n",
    "print(\"\")\n",
    "benz_fodft.get_couplings(\"LDA\", \"dzp\", 16, 16)\n",
    "# print(\"\")\n",
    "# benz_fodft.get_couplings(\"GLLBSC\", \"dzp\", 16, 16)"
   ]
  },
  {
   "cell_type": "markdown",
   "metadata": {},
   "source": [
    "#### Or, just go directly for get_couplings"
   ]
  },
  {
   "cell_type": "code",
   "execution_count": 4,
   "metadata": {},
   "outputs": [
    {
     "name": "stdout",
     "output_type": "stream",
     "text": [
      "No diabats are stored for: \n",
      " Functional: LDA \n",
      " Basis: dzp \n",
      " Dimer distance 5.0 \n",
      " Calculating HS matrices first\n",
      "HS matrices for: \n",
      " Functional: LDA \n",
      " Basis: dzp \n",
      " Dimer distance: 5.0 does not exist.\n",
      " This will be done first\n",
      "Calculated HS matrices for benzene_mol at distance 5.0 with xc: LDA and basis: dzp\n",
      "Hab_fo: -0.034571701742674404 eV \n",
      "Site energy acceptor: -1.1265039976320719 eV \n",
      "Site energy donor: -1.126503997632144 eV\n"
     ]
    },
    {
     "data": {
      "text/plain": [
       "(-0.034571701742674404, -1.1265039976320719, -1.126503997632144)"
      ]
     },
     "execution_count": 4,
     "metadata": {},
     "output_type": "execute_result"
    }
   ],
   "source": [
    "benz_fodft.get_couplings(\"LDA\", \"dzp\", 16, 16)"
   ]
  },
  {
   "cell_type": "markdown",
   "metadata": {},
   "source": [
    "### Doing some looping and working the CPU"
   ]
  },
  {
   "cell_type": "code",
   "execution_count": 15,
   "metadata": {},
   "outputs": [],
   "source": [
    "# List of intermolecular distances\n",
    "distances = [3, 3.5, 4, 4.5, 5.0]\n",
    "\n",
    "# Functionals xc: \n",
    "# Known to work -> LDA, PBE, GLLBSC\n",
    "functionals = [\"LDA\", \"PBE\"]#, \"GLLBSC\"]\n",
    "\n",
    "# Basis sets \n",
    "# Only dzp :'(\n",
    "basis_sets = [\"dzp\"]\n",
    "\n",
    "\n",
    "# Set up some data storage\n",
    "HOMO_couplings = {}\n",
    "for xc in functionals:\n",
    "    for basis in basis_sets:\n",
    "        HOMO_couplings[xc+basis] = {\"dist\": [], \"Hab_fo\": [], \"E_site_A\": [], \"E_site_D\": []}\n"
   ]
  },
  {
   "cell_type": "code",
   "execution_count": null,
   "metadata": {},
   "outputs": [
    {
     "name": "stdout",
     "output_type": "stream",
     "text": [
      "No diabats are stored for: \n",
      " Functional: LDA \n",
      " Basis: dzp \n",
      " Dimer distance 3.0 \n",
      " Calculating HS matrices first\n",
      "HS matrices for: \n",
      " Functional: LDA \n",
      " Basis: dzp \n",
      " Dimer distance: 3.0 does not exist.\n",
      " This will be done first\n",
      "Calculated HS matrices for benzene_mol at distance 3.0 with xc: LDA and basis: dzp\n",
      "Hab_fo: -0.7420081210417734 eV \n",
      "Site energy acceptor: -1.0938733051392808 eV \n",
      "Site energy donor: -1.0938733051393257 eV\n",
      "No diabats are stored for: \n",
      " Functional: PBE \n",
      " Basis: dzp \n",
      " Dimer distance 3.0 \n",
      " Calculating HS matrices first\n",
      "HS matrices for: \n",
      " Functional: PBE \n",
      " Basis: dzp \n",
      " Dimer distance: 3.0 does not exist.\n",
      " This will be done first\n",
      "Calculated HS matrices for benzene_mol at distance 3.0 with xc: PBE and basis: dzp\n",
      "Hab_fo: -0.7202339746867721 eV \n",
      "Site energy acceptor: -0.8579433702996956 eV \n",
      "Site energy donor: -0.8579433702997225 eV\n",
      "No diabats are stored for: \n",
      " Functional: LDA \n",
      " Basis: dzp \n",
      " Dimer distance 3.5 \n",
      " Calculating HS matrices first\n",
      "HS matrices for: \n",
      " Functional: LDA \n",
      " Basis: dzp \n",
      " Dimer distance: 3.5 does not exist.\n",
      " This will be done first\n",
      "Calculated HS matrices for benzene_mol at distance 3.5 with xc: LDA and basis: dzp\n",
      "Hab_fo: -0.36263458679550975 eV \n",
      "Site energy acceptor: -1.030228565995084 eV \n",
      "Site energy donor: -1.0302285659951405 eV\n",
      "No diabats are stored for: \n",
      " Functional: PBE \n",
      " Basis: dzp \n",
      " Dimer distance 3.5 \n",
      " Calculating HS matrices first\n",
      "HS matrices for: \n",
      " Functional: PBE \n",
      " Basis: dzp \n",
      " Dimer distance: 3.5 does not exist.\n",
      " This will be done first\n",
      "Calculated HS matrices for benzene_mol at distance 3.5 with xc: PBE and basis: dzp\n",
      "Hab_fo: -0.34837100269722715 eV \n",
      "Site energy acceptor: -0.8054797823427504 eV \n",
      "Site energy donor: -0.8054797823427894 eV\n",
      "No diabats are stored for: \n",
      " Functional: LDA \n",
      " Basis: dzp \n",
      " Dimer distance 4.0 \n",
      " Calculating HS matrices first\n",
      "HS matrices for: \n",
      " Functional: LDA \n",
      " Basis: dzp \n",
      " Dimer distance: 4.0 does not exist.\n",
      " This will be done first\n",
      "Calculated HS matrices for benzene_mol at distance 4.0 with xc: LDA and basis: dzp\n",
      "Hab_fo: -0.16687988241028565 eV \n",
      "Site energy acceptor: -1.05205750415394 eV \n",
      "Site energy donor: -1.0520575041538909 eV\n",
      "No diabats are stored for: \n",
      " Functional: PBE \n",
      " Basis: dzp \n",
      " Dimer distance 4.0 \n",
      " Calculating HS matrices first\n",
      "HS matrices for: \n",
      " Functional: PBE \n",
      " Basis: dzp \n",
      " Dimer distance: 4.0 does not exist.\n",
      " This will be done first\n",
      "Calculated HS matrices for benzene_mol at distance 4.0 with xc: PBE and basis: dzp\n",
      "Hab_fo: -0.16025300029085723 eV \n",
      "Site energy acceptor: -0.8346244497171701 eV \n",
      "Site energy donor: -0.8346244497171645 eV\n",
      "No diabats are stored for: \n",
      " Functional: LDA \n",
      " Basis: dzp \n",
      " Dimer distance 4.5 \n",
      " Calculating HS matrices first\n",
      "HS matrices for: \n",
      " Functional: LDA \n",
      " Basis: dzp \n",
      " Dimer distance: 4.5 does not exist.\n",
      " This will be done first\n",
      "Calculated HS matrices for benzene_mol at distance 4.5 with xc: LDA and basis: dzp\n",
      "Hab_fo: -0.07782131698287056 eV \n",
      "Site energy acceptor: -1.0899167460722858 eV \n",
      "Site energy donor: -1.0899167460722676 eV\n",
      "No diabats are stored for: \n",
      " Functional: PBE \n",
      " Basis: dzp \n",
      " Dimer distance 4.5 \n",
      " Calculating HS matrices first\n",
      "HS matrices for: \n",
      " Functional: PBE \n",
      " Basis: dzp \n",
      " Dimer distance: 4.5 does not exist.\n",
      " This will be done first\n",
      "Calculated HS matrices for benzene_mol at distance 4.5 with xc: PBE and basis: dzp\n",
      "Hab_fo: -0.07584010816047317 eV \n",
      "Site energy acceptor: -0.8769370078788148 eV \n",
      "Site energy donor: -0.8769370078788082 eV\n",
      "No diabats are stored for: \n",
      " Functional: LDA \n",
      " Basis: dzp \n",
      " Dimer distance 5.0 \n",
      " Calculating HS matrices first\n",
      "HS matrices for: \n",
      " Functional: LDA \n",
      " Basis: dzp \n",
      " Dimer distance: 5.0 does not exist.\n",
      " This will be done first\n",
      "Calculated HS matrices for benzene_mol at distance 5.0 with xc: LDA and basis: dzp\n",
      "Hab_fo: -0.034571701742674404 eV \n",
      "Site energy acceptor: -1.1265039976320719 eV \n",
      "Site energy donor: -1.126503997632144 eV\n",
      "No diabats are stored for: \n",
      " Functional: PBE \n",
      " Basis: dzp \n",
      " Dimer distance 5.0 \n",
      " Calculating HS matrices first\n",
      "HS matrices for: \n",
      " Functional: PBE \n",
      " Basis: dzp \n",
      " Dimer distance: 5.0 does not exist.\n",
      " This will be done first\n",
      "Calculated HS matrices for benzene_mol at distance 5.0 with xc: PBE and basis: dzp\n",
      "Hab_fo: -0.03417545158462063 eV \n",
      "Site energy acceptor: -0.9124506058217634 eV \n",
      "Site energy donor: -0.9124506058218215 eV\n"
     ]
    }
   ],
   "source": [
    "# This cell took ~3 min. locally - \n",
    "\n",
    "# Getting heavy \n",
    "benzene_struct = \"benzene_mol.xyz\"\n",
    "HOMO_idx = 16\n",
    "\n",
    "for i, distance in enumerate(distances):\n",
    "    benzene_dimer = DimerObject(benzene_struct,t=[0,0, distance])\n",
    "\n",
    "    benz_fodft = MolFODFT(benzene_dimer)\n",
    "\n",
    "    for xc in functionals:\n",
    "        for basis in basis_sets:\n",
    "            Hab_fo, ea, ed = benz_fodft.get_couplings(xc, basis, HOMO_idx, HOMO_idx) # HOMO idx is 16\n",
    "\n",
    "            HOMO_couplings[xc+basis][\"dist\"].append(distance)\n",
    "            HOMO_couplings[xc+basis][\"Hab_fo\"].append(Hab_fo)\n",
    "            HOMO_couplings[xc+basis][\"E_site_A\"].append(ea)\n",
    "            HOMO_couplings[xc+basis][\"E_site_D\"].append(ed)\n",
    "            \n",
    "\n",
    "\n",
    "\n"
   ]
  },
  {
   "cell_type": "code",
   "execution_count": 15,
   "metadata": {},
   "outputs": [
    {
     "data": {
      "text/html": [
       "<div>\n",
       "<style scoped>\n",
       "    .dataframe tbody tr th:only-of-type {\n",
       "        vertical-align: middle;\n",
       "    }\n",
       "\n",
       "    .dataframe tbody tr th {\n",
       "        vertical-align: top;\n",
       "    }\n",
       "\n",
       "    .dataframe thead th {\n",
       "        text-align: right;\n",
       "    }\n",
       "</style>\n",
       "<table border=\"1\" class=\"dataframe\">\n",
       "  <thead>\n",
       "    <tr style=\"text-align: right;\">\n",
       "      <th></th>\n",
       "      <th>dist</th>\n",
       "      <th>Hab_fo</th>\n",
       "      <th>E_site_A</th>\n",
       "      <th>E_site_D</th>\n",
       "    </tr>\n",
       "  </thead>\n",
       "  <tbody>\n",
       "    <tr>\n",
       "      <th>0</th>\n",
       "      <td>3.0</td>\n",
       "      <td>-0.742008</td>\n",
       "      <td>-1.093873</td>\n",
       "      <td>-1.093873</td>\n",
       "    </tr>\n",
       "    <tr>\n",
       "      <th>1</th>\n",
       "      <td>3.5</td>\n",
       "      <td>-0.362635</td>\n",
       "      <td>-1.030229</td>\n",
       "      <td>-1.030229</td>\n",
       "    </tr>\n",
       "    <tr>\n",
       "      <th>2</th>\n",
       "      <td>4.0</td>\n",
       "      <td>-0.166880</td>\n",
       "      <td>-1.052058</td>\n",
       "      <td>-1.052058</td>\n",
       "    </tr>\n",
       "    <tr>\n",
       "      <th>3</th>\n",
       "      <td>4.5</td>\n",
       "      <td>-0.077821</td>\n",
       "      <td>-1.089917</td>\n",
       "      <td>-1.089917</td>\n",
       "    </tr>\n",
       "    <tr>\n",
       "      <th>4</th>\n",
       "      <td>5.0</td>\n",
       "      <td>-0.034572</td>\n",
       "      <td>-1.126504</td>\n",
       "      <td>-1.126504</td>\n",
       "    </tr>\n",
       "  </tbody>\n",
       "</table>\n",
       "</div>"
      ],
      "text/plain": [
       "   dist    Hab_fo  E_site_A  E_site_D\n",
       "0   3.0 -0.742008 -1.093873 -1.093873\n",
       "1   3.5 -0.362635 -1.030229 -1.030229\n",
       "2   4.0 -0.166880 -1.052058 -1.052058\n",
       "3   4.5 -0.077821 -1.089917 -1.089917\n",
       "4   5.0 -0.034572 -1.126504 -1.126504"
      ]
     },
     "metadata": {},
     "output_type": "display_data"
    },
    {
     "data": {
      "text/html": [
       "<div>\n",
       "<style scoped>\n",
       "    .dataframe tbody tr th:only-of-type {\n",
       "        vertical-align: middle;\n",
       "    }\n",
       "\n",
       "    .dataframe tbody tr th {\n",
       "        vertical-align: top;\n",
       "    }\n",
       "\n",
       "    .dataframe thead th {\n",
       "        text-align: right;\n",
       "    }\n",
       "</style>\n",
       "<table border=\"1\" class=\"dataframe\">\n",
       "  <thead>\n",
       "    <tr style=\"text-align: right;\">\n",
       "      <th></th>\n",
       "      <th>dist</th>\n",
       "      <th>Hab_fo</th>\n",
       "      <th>E_site_A</th>\n",
       "      <th>E_site_D</th>\n",
       "    </tr>\n",
       "  </thead>\n",
       "  <tbody>\n",
       "    <tr>\n",
       "      <th>0</th>\n",
       "      <td>3.0</td>\n",
       "      <td>-0.720234</td>\n",
       "      <td>-0.857943</td>\n",
       "      <td>-0.857943</td>\n",
       "    </tr>\n",
       "    <tr>\n",
       "      <th>1</th>\n",
       "      <td>3.5</td>\n",
       "      <td>-0.348371</td>\n",
       "      <td>-0.805480</td>\n",
       "      <td>-0.805480</td>\n",
       "    </tr>\n",
       "    <tr>\n",
       "      <th>2</th>\n",
       "      <td>4.0</td>\n",
       "      <td>-0.160253</td>\n",
       "      <td>-0.834624</td>\n",
       "      <td>-0.834624</td>\n",
       "    </tr>\n",
       "    <tr>\n",
       "      <th>3</th>\n",
       "      <td>4.5</td>\n",
       "      <td>-0.075840</td>\n",
       "      <td>-0.876937</td>\n",
       "      <td>-0.876937</td>\n",
       "    </tr>\n",
       "    <tr>\n",
       "      <th>4</th>\n",
       "      <td>5.0</td>\n",
       "      <td>-0.034175</td>\n",
       "      <td>-0.912451</td>\n",
       "      <td>-0.912451</td>\n",
       "    </tr>\n",
       "  </tbody>\n",
       "</table>\n",
       "</div>"
      ],
      "text/plain": [
       "   dist    Hab_fo  E_site_A  E_site_D\n",
       "0   3.0 -0.720234 -0.857943 -0.857943\n",
       "1   3.5 -0.348371 -0.805480 -0.805480\n",
       "2   4.0 -0.160253 -0.834624 -0.834624\n",
       "3   4.5 -0.075840 -0.876937 -0.876937\n",
       "4   5.0 -0.034175 -0.912451 -0.912451"
      ]
     },
     "metadata": {},
     "output_type": "display_data"
    }
   ],
   "source": [
    "# Plot some data\n",
    "import pandas as pd \n",
    "LDAdzp = pd.DataFrame(HOMO_couplings[\"LDAdzp\"])\n",
    "PBEdzp = pd.DataFrame(HOMO_couplings[\"PBEdzp\"])\n",
    "\n",
    "display(LDAdzp)\n",
    "display(PBEdzp)"
   ]
  },
  {
   "cell_type": "code",
   "execution_count": 39,
   "metadata": {},
   "outputs": [
    {
     "data": {
      "image/png": "[encoded data removed]",
      "text/plain": [
       "<Figure size 640x480 with 2 Axes>"
      ]
     },
     "metadata": {},
     "output_type": "display_data"
    }
   ],
   "source": [
    "import matplotlib.pyplot as plt \n",
    "import numpy as np\n",
    "# import seaborn as sns \n",
    "\n",
    "fig, ax = plt.subplots(2,1)\n",
    "\n",
    "ax[0].plot(LDAdzp[\"dist\"], abs(LDAdzp[\"Hab_fo\"])*1000)\n",
    "ax[0].set_ylabel(\"|H$_{ad}$| meV\" )\n",
    "ax[0].set_title(\"xc: LDA, basis: dzp\")\n",
    "\n",
    "ax[1].plot(PBEdzp[\"dist\"], abs(PBEdzp[\"Hab_fo\"])*1000 )\n",
    "ax[1].set_ylabel(\"|H$_{ad}$| meV\")\n",
    "ax[1].set_title(\"xc: PBE, basis: dzp\")\n",
    "ax[1].set_xlabel(\"Å\")\n",
    "\n",
    "ax[0].grid()\n",
    "ax[1].grid()\n",
    "fig.set_constrained_layout(3)\n"
   ]
  },
  {
   "cell_type": "code",
   "execution_count": null,
   "metadata": {},
   "outputs": [],
   "source": []
  },
  {
   "cell_type": "code",
   "execution_count": null,
   "metadata": {},
   "outputs": [],
   "source": []
  },
  {
   "cell_type": "markdown",
   "metadata": {},
   "source": [
    "## Try with Hydrogen"
   ]
  },
  {
   "cell_type": "code",
   "execution_count": 3,
   "metadata": {},
   "outputs": [
    {
     "ename": "ImportError",
     "evalue": "attempted relative import with no known parent package",
     "output_type": "error",
     "traceback": [
      "\u001b[31m---------------------------------------------------------------------------\u001b[39m",
      "\u001b[31mImportError\u001b[39m                               Traceback (most recent call last)",
      "\u001b[36mCell\u001b[39m\u001b[36m \u001b[39m\u001b[32mIn[3]\u001b[39m\u001b[32m, line 2\u001b[39m\n\u001b[32m      1\u001b[39m \u001b[38;5;66;03m# Imports\u001b[39;00m\n\u001b[32m----> \u001b[39m\u001b[32m2\u001b[39m \u001b[38;5;28;01mfrom\u001b[39;00m\u001b[38;5;250m \u001b[39m\u001b[34;01m.\u001b[39;00m\u001b[34;01m.\u001b[39;00m\u001b[34;01mcouplings\u001b[39;00m\u001b[34;01m.\u001b[39;00m\u001b[34;01mdimerobject\u001b[39;00m\u001b[38;5;250m \u001b[39m\u001b[38;5;28;01mimport\u001b[39;00m DimerObject\n\u001b[32m      3\u001b[39m \u001b[38;5;28;01mfrom\u001b[39;00m\u001b[38;5;250m \u001b[39m\u001b[34;01m.\u001b[39;00m\u001b[34;01m.\u001b[39;00m\u001b[34;01mcouplings\u001b[39;00m\u001b[34;01m.\u001b[39;00m\u001b[34;01mmolfodft\u001b[39;00m\u001b[38;5;250m \u001b[39m\u001b[38;5;28;01mimport\u001b[39;00m MolFODFT\n\u001b[32m      4\u001b[39m \u001b[38;5;28;01mfrom\u001b[39;00m\u001b[38;5;250m \u001b[39m\u001b[34;01mase\u001b[39;00m\u001b[34;01m.\u001b[39;00m\u001b[34;01mvisualize\u001b[39;00m\u001b[38;5;250m \u001b[39m\u001b[38;5;28;01mimport\u001b[39;00m view \n",
      "\u001b[31mImportError\u001b[39m: attempted relative import with no known parent package"
     ]
    }
   ],
   "source": [
    "# Imports\n",
    "from ..couplings.dimerobject import DimerObject\n",
    "from ..couplings.molfodft import MolFODFT\n",
    "from ase.visualize import view \n",
    "# Load structure\n",
    "hydrogen = \"H.xyz\"\n",
    "hydrogen_dimer = DimerObject(hydrogen,t=[0,0,2])\n",
    "H2_fodft = MolFODFT(hydrogen_dimer)\n",
    "print(hydrogen_dimer)\n",
    "# view(hydrogen_dimer[0])"
   ]
  },
  {
   "cell_type": "code",
   "execution_count": 2,
   "metadata": {},
   "outputs": [
    {
     "name": "stdout",
     "output_type": "stream",
     "text": [
      "No diabats are stored for: \n",
      " Functional: LDA \n",
      " Basis: dzp \n",
      " Dimer distance 2.0 \n",
      " Calculating HS matrices first\n",
      "HS matrices for: \n",
      " Functional: LDA \n",
      " Basis: dzp \n",
      " Dimer distance: 2.0 does not exist.\n",
      " This will be done first\n",
      "Calculated HS matrices for H at distance 2.0 with xc: LDA and basis: dzp\n",
      "Hab_fo: -1.2890080843490415 eV \n",
      "Site energy acceptor: -6.141285969844499 eV \n",
      "Site energy donor: -6.141285969844508 eV\n"
     ]
    },
    {
     "data": {
      "text/plain": [
       "(-1.2890080843490415,\n",
       " 0.2356452190616505,\n",
       " -6.141285969844499,\n",
       " -6.141285969844508)"
      ]
     },
     "execution_count": 2,
     "metadata": {},
     "output_type": "execute_result"
    }
   ],
   "source": [
    "# Get couplings\n",
    "H2_fodft.get_couplings(\"LDA\", \"dzp\", 0, 0)"
   ]
  },
  {
   "cell_type": "code",
   "execution_count": 10,
   "metadata": {},
   "outputs": [
    {
     "name": "stdout",
     "output_type": "stream",
     "text": [
      "No diabats are stored for: \n",
      " Functional: PBE \n",
      " Basis: dzp \n",
      " Dimer distance 2.0 \n",
      " Calculating HS matrices first\n",
      "HS matrices for: \n",
      " Functional: PBE \n",
      " Basis: dzp \n",
      " Dimer distance: 2.0 does not exist.\n",
      " This will be done first\n",
      "Calculated HS matrices for H2 at distance 2.0 with xc: PBE and basis: dzp\n",
      "Hab_fo: -1.5301116136951278 eV \n",
      "Site energy acceptor: 0.9850716437736992 eV \n",
      "Site energy donor: 0.9850716437735834 eV\n"
     ]
    },
    {
     "data": {
      "text/plain": [
       "(-1.5301116136951278, 0.9850716437736992, 0.9850716437735834)"
      ]
     },
     "execution_count": 10,
     "metadata": {},
     "output_type": "execute_result"
    }
   ],
   "source": [
    "H2_fodft.get_couplings(\"PBE\", \"dzp\", 1, 1)"
   ]
  },
  {
   "cell_type": "markdown",
   "metadata": {},
   "source": [
    "## Now we'll try the same plot as just done for benzene"
   ]
  },
  {
   "cell_type": "code",
   "execution_count": null,
   "metadata": {},
   "outputs": [],
   "source": [
    "from couplings.dimerobject import DimerObject\n",
    "from couplings.fodft import FODFT\n",
    "# List of intermolecular distances\n",
    "distances = [0.74, 0.84, 0.94, 1.04, 1.14, 10]\n",
    "\n",
    "# Functionals xc: \n",
    "# Known to work -> LDA, PBE, GLLBSC\n",
    "functionals = [\"LDA\", \"PBE\"]#, \"GLLBSC\"]\n",
    "\n",
    "# Basis sets \n",
    "# Only dzp :'(\n",
    "basis_sets = [\"dzp\"]\n",
    "\n",
    "\n",
    "# Set up some data storage\n",
    "HOMO_couplings = {}\n",
    "for xc in functionals:\n",
    "    for basis in basis_sets:\n",
    "        HOMO_couplings[xc+basis] = {\"dist\": [], \"Hab_fo\": [], \"Sab\": [], \"E_site_A\": [], \"E_site_D\": []}\n"
   ]
  },
  {
   "cell_type": "code",
   "execution_count": 2,
   "metadata": {},
   "outputs": [
    {
     "name": "stdout",
     "output_type": "stream",
     "text": [
      "No diabats are stored for: \n",
      " Functional: LDA \n",
      " Basis: dzp \n",
      " Dimer distance 0.74 \n",
      " Calculating HS matrices first\n",
      "HS matrices for: \n",
      " Functional: LDA \n",
      " Basis: dzp \n",
      " Dimer distance: 0.74 does not exist.\n",
      " This will be done first\n",
      "Calculated HS matrices for H at distance 0.74 with xc: LDA and basis: dzp\n",
      "Hab_fo: -7.405870761815309 eV \n",
      "Site energy acceptor: -7.968857325880959 eV \n",
      "Site energy donor: -7.968857325880972 eV\n",
      "No diabats are stored for: \n",
      " Functional: PBE \n",
      " Basis: dzp \n",
      " Dimer distance 0.74 \n",
      " Calculating HS matrices first\n",
      "HS matrices for: \n",
      " Functional: PBE \n",
      " Basis: dzp \n",
      " Dimer distance: 0.74 does not exist.\n",
      " This will be done first\n",
      "Calculated HS matrices for H at distance 0.74 with xc: PBE and basis: dzp\n",
      "Hab_fo: -7.528899197825817 eV \n",
      "Site energy acceptor: -8.074258889684678 eV \n",
      "Site energy donor: -8.074258889684785 eV\n",
      "No diabats are stored for: \n",
      " Functional: LDA \n",
      " Basis: dzp \n",
      " Dimer distance 0.84 \n",
      " Calculating HS matrices first\n",
      "HS matrices for: \n",
      " Functional: LDA \n",
      " Basis: dzp \n",
      " Dimer distance: 0.84 does not exist.\n",
      " This will be done first\n",
      "Calculated HS matrices for H at distance 0.84 with xc: LDA and basis: dzp\n",
      "Hab_fo: -6.39605738092557 eV \n",
      "Site energy acceptor: -7.53730288135983 eV \n",
      "Site energy donor: -7.537302881359836 eV\n",
      "No diabats are stored for: \n",
      " Functional: PBE \n",
      " Basis: dzp \n",
      " Dimer distance 0.84 \n",
      " Calculating HS matrices first\n",
      "HS matrices for: \n",
      " Functional: PBE \n",
      " Basis: dzp \n",
      " Dimer distance: 0.84 does not exist.\n",
      " This will be done first\n",
      "Calculated HS matrices for H at distance 0.84 with xc: PBE and basis: dzp\n",
      "Hab_fo: -6.485578703500892 eV \n",
      "Site energy acceptor: -7.620058294940266 eV \n",
      "Site energy donor: -7.620058294940278 eV\n",
      "No diabats are stored for: \n",
      " Functional: LDA \n",
      " Basis: dzp \n",
      " Dimer distance 0.94 \n",
      " Calculating HS matrices first\n",
      "HS matrices for: \n",
      " Functional: LDA \n",
      " Basis: dzp \n",
      " Dimer distance: 0.94 does not exist.\n",
      " This will be done first\n",
      "Calculated HS matrices for H at distance 0.94 with xc: LDA and basis: dzp\n",
      "Hab_fo: -5.532801038018696 eV \n",
      "Site energy acceptor: -7.191065336785861 eV \n",
      "Site energy donor: -7.191065336785864 eV\n",
      "No diabats are stored for: \n",
      " Functional: PBE \n",
      " Basis: dzp \n",
      " Dimer distance 0.94 \n",
      " Calculating HS matrices first\n",
      "HS matrices for: \n",
      " Functional: PBE \n",
      " Basis: dzp \n",
      " Dimer distance: 0.94 does not exist.\n",
      " This will be done first\n",
      "Calculated HS matrices for H at distance 0.94 with xc: PBE and basis: dzp\n",
      "Hab_fo: -5.594919567538675 eV \n",
      "Site energy acceptor: -7.2598564232432174 eV \n",
      "Site energy donor: -7.259856423243394 eV\n",
      "No diabats are stored for: \n",
      " Functional: LDA \n",
      " Basis: dzp \n",
      " Dimer distance 1.04 \n",
      " Calculating HS matrices first\n",
      "HS matrices for: \n",
      " Functional: LDA \n",
      " Basis: dzp \n",
      " Dimer distance: 1.04 does not exist.\n",
      " This will be done first\n",
      "Calculated HS matrices for H at distance 1.04 with xc: LDA and basis: dzp\n",
      "Hab_fo: -4.793656327149564 eV \n",
      "Site energy acceptor: -6.91674749234885 eV \n",
      "Site energy donor: -6.91674749234884 eV\n",
      "No diabats are stored for: \n",
      " Functional: PBE \n",
      " Basis: dzp \n",
      " Dimer distance 1.04 \n",
      " Calculating HS matrices first\n",
      "HS matrices for: \n",
      " Functional: PBE \n",
      " Basis: dzp \n",
      " Dimer distance: 1.04 does not exist.\n",
      " This will be done first\n",
      "Calculated HS matrices for H at distance 1.04 with xc: PBE and basis: dzp\n",
      "Hab_fo: -4.833548651550761 eV \n",
      "Site energy acceptor: -6.978903080618286 eV \n",
      "Site energy donor: -6.97890308061832 eV\n",
      "No diabats are stored for: \n",
      " Functional: LDA \n",
      " Basis: dzp \n",
      " Dimer distance 1.14 \n",
      " Calculating HS matrices first\n",
      "HS matrices for: \n",
      " Functional: LDA \n",
      " Basis: dzp \n",
      " Dimer distance: 1.14 does not exist.\n",
      " This will be done first\n",
      "Calculated HS matrices for H at distance 1.14 with xc: LDA and basis: dzp\n",
      "Hab_fo: -4.1597950396646945 eV \n",
      "Site energy acceptor: -6.701937635817214 eV \n",
      "Site energy donor: -6.701937635817216 eV\n",
      "No diabats are stored for: \n",
      " Functional: PBE \n",
      " Basis: dzp \n",
      " Dimer distance 1.14 \n",
      " Calculating HS matrices first\n",
      "HS matrices for: \n",
      " Functional: PBE \n",
      " Basis: dzp \n",
      " Dimer distance: 1.14 does not exist.\n",
      " This will be done first\n",
      "Calculated HS matrices for H at distance 1.14 with xc: PBE and basis: dzp\n",
      "Hab_fo: -4.181848888003938 eV \n",
      "Site energy acceptor: -6.7634075793284705 eV \n",
      "Site energy donor: -6.7634075793284625 eV\n"
     ]
    }
   ],
   "source": [
    "# This cell took ~1 min. locally - \n",
    "\n",
    "# Getting heavy \n",
    "H2 = \"H.xyz\"\n",
    "HOMO_idx = 0\n",
    "\n",
    "for i, distance in enumerate(distances):\n",
    "    H2_dimer = DimerObject(H2,t=[0,0, distance])\n",
    "\n",
    "    H2_fodft = FODFT(H2_dimer)\n",
    "\n",
    "    for xc in functionals:\n",
    "        for basis in basis_sets:\n",
    "            Hab_fo, Sab, ea, ed = H2_fodft.get_couplings(xc, basis, HOMO_idx, HOMO_idx) # HOMO idx is 0\n",
    "\n",
    "            HOMO_couplings[xc+basis][\"dist\"].append(distance)\n",
    "            HOMO_couplings[xc+basis][\"Hab_fo\"].append(Hab_fo)\n",
    "            HOMO_couplings[xc+basis][\"Sab\"].append(Sab)\n",
    "            HOMO_couplings[xc+basis][\"E_site_A\"].append(ea)\n",
    "            HOMO_couplings[xc+basis][\"E_site_D\"].append(ed)\n",
    "\n",
    "            \n",
    "\n"
   ]
  },
  {
   "cell_type": "code",
   "execution_count": null,
   "metadata": {},
   "outputs": [
    {
     "data": {
      "text/plain": [
       "dict_keys(['LDAdzp', 'PBEdzp'])"
      ]
     },
     "execution_count": 7,
     "metadata": {},
     "output_type": "execute_result"
    }
   ],
   "source": [
    "# Check distances in dictionary\n",
    "# H2_H = H2_fodft.HS_matrices[\"PBE\"][\"dzp\"][1.5][\"dimer\"][\"H\"]\n",
    "# H2_S = H2_fodft.HS_matrices[\"PBE\"][\"dzp\"][1.5][\"dimer\"][\"S\"]\n",
    "# import scipy.linalg\n",
    "\n",
    "# scipy.linalg.eigh(H2_H, H2_S)[0]\n",
    "# H2_fodft.HS_matrices[\"PBE\"][\"dzp\"]\n",
    "\n",
    "# HOMO_couplings    \n"
   ]
  },
  {
   "cell_type": "code",
   "execution_count": 3,
   "metadata": {},
   "outputs": [
    {
     "data": {
      "text/plain": [
       "{'dist': [0.74, 0.84, 0.94, 1.04, 1.14],\n",
       " 'Hab_fo': [-7.405870761815309,\n",
       "  -6.39605738092557,\n",
       "  -5.532801038018696,\n",
       "  -4.793656327149564,\n",
       "  -4.1597950396646945],\n",
       " 'Sab': [0.7794572524386914,\n",
       "  0.7298620548604156,\n",
       "  0.6796543185615532,\n",
       "  0.6295843549773668,\n",
       "  0.5802792297969499],\n",
       " 'E_site_A': [-7.968857325880959,\n",
       "  -7.53730288135983,\n",
       "  -7.191065336785861,\n",
       "  -6.91674749234885,\n",
       "  -6.701937635817214],\n",
       " 'E_site_D': [-7.968857325880972,\n",
       "  -7.537302881359836,\n",
       "  -7.191065336785864,\n",
       "  -6.91674749234884,\n",
       "  -6.701937635817216]}"
      ]
     },
     "execution_count": 3,
     "metadata": {},
     "output_type": "execute_result"
    }
   ],
   "source": [
    "# view(H2_dimer[0])\n",
    "HOMO_couplings[\"LDAdzp\"]"
   ]
  },
  {
   "cell_type": "code",
   "execution_count": 9,
   "metadata": {},
   "outputs": [
    {
     "data": {
      "text/html": [
       "<div>\n",
       "<style scoped>\n",
       "    .dataframe tbody tr th:only-of-type {\n",
       "        vertical-align: middle;\n",
       "    }\n",
       "\n",
       "    .dataframe tbody tr th {\n",
       "        vertical-align: top;\n",
       "    }\n",
       "\n",
       "    .dataframe thead th {\n",
       "        text-align: right;\n",
       "    }\n",
       "</style>\n",
       "<table border=\"1\" class=\"dataframe\">\n",
       "  <thead>\n",
       "    <tr style=\"text-align: right;\">\n",
       "      <th></th>\n",
       "      <th>dist</th>\n",
       "      <th>Hab_fo</th>\n",
       "      <th>Sab</th>\n",
       "      <th>E_site_A</th>\n",
       "      <th>E_site_D</th>\n",
       "    </tr>\n",
       "  </thead>\n",
       "  <tbody>\n",
       "    <tr>\n",
       "      <th>0</th>\n",
       "      <td>0.74</td>\n",
       "      <td>-0.272166</td>\n",
       "      <td>0.779457</td>\n",
       "      <td>-7.968857</td>\n",
       "      <td>-7.968857</td>\n",
       "    </tr>\n",
       "    <tr>\n",
       "      <th>1</th>\n",
       "      <td>0.84</td>\n",
       "      <td>-0.235055</td>\n",
       "      <td>0.729862</td>\n",
       "      <td>-7.537303</td>\n",
       "      <td>-7.537303</td>\n",
       "    </tr>\n",
       "    <tr>\n",
       "      <th>2</th>\n",
       "      <td>0.94</td>\n",
       "      <td>-0.203330</td>\n",
       "      <td>0.679654</td>\n",
       "      <td>-7.191065</td>\n",
       "      <td>-7.191065</td>\n",
       "    </tr>\n",
       "    <tr>\n",
       "      <th>3</th>\n",
       "      <td>1.04</td>\n",
       "      <td>-0.176167</td>\n",
       "      <td>0.629584</td>\n",
       "      <td>-6.916747</td>\n",
       "      <td>-6.916747</td>\n",
       "    </tr>\n",
       "    <tr>\n",
       "      <th>4</th>\n",
       "      <td>1.14</td>\n",
       "      <td>-0.152872</td>\n",
       "      <td>0.580279</td>\n",
       "      <td>-6.701938</td>\n",
       "      <td>-6.701938</td>\n",
       "    </tr>\n",
       "  </tbody>\n",
       "</table>\n",
       "</div>"
      ],
      "text/plain": [
       "   dist    Hab_fo       Sab  E_site_A  E_site_D\n",
       "0  0.74 -0.272166  0.779457 -7.968857 -7.968857\n",
       "1  0.84 -0.235055  0.729862 -7.537303 -7.537303\n",
       "2  0.94 -0.203330  0.679654 -7.191065 -7.191065\n",
       "3  1.04 -0.176167  0.629584 -6.916747 -6.916747\n",
       "4  1.14 -0.152872  0.580279 -6.701938 -6.701938"
      ]
     },
     "metadata": {},
     "output_type": "display_data"
    },
    {
     "data": {
      "text/html": [
       "<div>\n",
       "<style scoped>\n",
       "    .dataframe tbody tr th:only-of-type {\n",
       "        vertical-align: middle;\n",
       "    }\n",
       "\n",
       "    .dataframe tbody tr th {\n",
       "        vertical-align: top;\n",
       "    }\n",
       "\n",
       "    .dataframe thead th {\n",
       "        text-align: right;\n",
       "    }\n",
       "</style>\n",
       "<table border=\"1\" class=\"dataframe\">\n",
       "  <thead>\n",
       "    <tr style=\"text-align: right;\">\n",
       "      <th></th>\n",
       "      <th>dist</th>\n",
       "      <th>Hab_fo</th>\n",
       "      <th>Sab</th>\n",
       "      <th>E_site_A</th>\n",
       "      <th>E_site_D</th>\n",
       "    </tr>\n",
       "  </thead>\n",
       "  <tbody>\n",
       "    <tr>\n",
       "      <th>0</th>\n",
       "      <td>0.74</td>\n",
       "      <td>-7.528899</td>\n",
       "      <td>0.771985</td>\n",
       "      <td>-8.074259</td>\n",
       "      <td>-8.074259</td>\n",
       "    </tr>\n",
       "    <tr>\n",
       "      <th>1</th>\n",
       "      <td>0.84</td>\n",
       "      <td>-6.485579</td>\n",
       "      <td>0.721078</td>\n",
       "      <td>-7.620058</td>\n",
       "      <td>-7.620058</td>\n",
       "    </tr>\n",
       "    <tr>\n",
       "      <th>2</th>\n",
       "      <td>0.94</td>\n",
       "      <td>-5.594920</td>\n",
       "      <td>0.669714</td>\n",
       "      <td>-7.259856</td>\n",
       "      <td>-7.259856</td>\n",
       "    </tr>\n",
       "    <tr>\n",
       "      <th>3</th>\n",
       "      <td>1.04</td>\n",
       "      <td>-4.833549</td>\n",
       "      <td>0.618670</td>\n",
       "      <td>-6.978903</td>\n",
       "      <td>-6.978903</td>\n",
       "    </tr>\n",
       "    <tr>\n",
       "      <th>4</th>\n",
       "      <td>1.14</td>\n",
       "      <td>-4.181849</td>\n",
       "      <td>0.568595</td>\n",
       "      <td>-6.763408</td>\n",
       "      <td>-6.763408</td>\n",
       "    </tr>\n",
       "  </tbody>\n",
       "</table>\n",
       "</div>"
      ],
      "text/plain": [
       "   dist    Hab_fo       Sab  E_site_A  E_site_D\n",
       "0  0.74 -7.528899  0.771985 -8.074259 -8.074259\n",
       "1  0.84 -6.485579  0.721078 -7.620058 -7.620058\n",
       "2  0.94 -5.594920  0.669714 -7.259856 -7.259856\n",
       "3  1.04 -4.833549  0.618670 -6.978903 -6.978903\n",
       "4  1.14 -4.181849  0.568595 -6.763408 -6.763408"
      ]
     },
     "metadata": {},
     "output_type": "display_data"
    }
   ],
   "source": [
    "# Plot some data\n",
    "import pandas as pd \n",
    "\n",
    "LDAdzp = pd.DataFrame(HOMO_couplings[\"LDAdzp\"])\n",
    "LDAdzp[\"Hab_fo\"] = LDAdzp[\"Hab_fo\"] * 0.03675\n",
    "PBEdzp = pd.DataFrame(HOMO_couplings[\"PBEdzp\"])\n",
    "\n",
    "display(LDAdzp)\n",
    "display(PBEdzp)"
   ]
  },
  {
   "cell_type": "code",
   "execution_count": 11,
   "metadata": {},
   "outputs": [
    {
     "data": {
      "image/png": "[encoded data removed]",
      "text/plain": [
       "<Figure size 640x480 with 2 Axes>"
      ]
     },
     "metadata": {},
     "output_type": "display_data"
    }
   ],
   "source": [
    "import matplotlib.pyplot as plt \n",
    "import numpy as np\n",
    "# import seaborn as sns \n",
    "\n",
    "fig, ax = plt.subplots(2,1)\n",
    "\n",
    "ax[0].plot(LDAdzp[\"dist\"], abs(LDAdzp[\"Hab_fo\"])*1000)\n",
    "ax[0].set_ylabel(\"|H$_{ad}$| meV\" )\n",
    "ax[0].set_title(\"xc: LDA, basis: dzp\")\n",
    "\n",
    "ax[1].plot(PBEdzp[\"dist\"], abs(PBEdzp[\"Hab_fo\"])*1000 )\n",
    "ax[1].set_ylabel(\"|H$_{ad}$| meV\")\n",
    "ax[1].set_title(\"xc: PBE, basis: dzp\")\n",
    "ax[1].set_xlabel(\"Å\")\n",
    "\n",
    "ax[0].grid()\n",
    "ax[1].grid()\n",
    "fig.set_constrained_layout(3)\n"
   ]
  },
  {
   "cell_type": "code",
   "execution_count": null,
   "metadata": {},
   "outputs": [],
   "source": []
  }
 ],
 "metadata": {
  "kernelspec": {
   "display_name": "gpaw-env",
   "language": "python",
   "name": "python3"
  },
  "language_info": {
   "codemirror_mode": {
    "name": "ipython",
    "version": 3
   },
   "file_extension": ".py",
   "mimetype": "text/x-python",
   "name": "python",
   "nbconvert_exporter": "python",
   "pygments_lexer": "ipython3",
   "version": "3.12.9"
  }
 },
 "nbformat": 4,
 "nbformat_minor": 2
}
